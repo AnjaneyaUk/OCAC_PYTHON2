{
 "cells": [
  {
   "cell_type": "code",
   "execution_count": 1,
   "id": "eed8efd5-949a-4b5f-94aa-bc6c1194a965",
   "metadata": {},
   "outputs": [],
   "source": [
    "#python output .we use the print() function to output data to the standard output devices\n",
    "#various wayas of printing"
   ]
  },
  {
   "cell_type": "code",
   "execution_count": 2,
   "id": "ae8152f3-1fc5-446f-a5d5-890a5212dc20",
   "metadata": {},
   "outputs": [
    {
     "name": "stdout",
     "output_type": "stream",
     "text": [
      "1\n"
     ]
    }
   ],
   "source": [
    "print(1)"
   ]
  },
  {
   "cell_type": "code",
   "execution_count": 3,
   "id": "c78cecef-bb47-479e-b089-b5c95952867a",
   "metadata": {},
   "outputs": [
    {
     "name": "stdout",
     "output_type": "stream",
     "text": [
      "Shiv ji , Radhe Radhe\n"
     ]
    }
   ],
   "source": [
    "print(\"Shiv ji , Radhe Radhe\")"
   ]
  },
  {
   "cell_type": "code",
   "execution_count": 4,
   "id": "a37cdfa2-7a57-49fc-9178-4055a4ccec8c",
   "metadata": {},
   "outputs": [
    {
     "name": "stdout",
     "output_type": "stream",
     "text": [
      "JAY JAGANNATH 13@!$%\n"
     ]
    }
   ],
   "source": [
    "print(\"JAY JAGANNATH 13@!$%\")"
   ]
  },
  {
   "cell_type": "code",
   "execution_count": 5,
   "id": "7ea84769-da4d-466d-a416-cf5d7ca15dec",
   "metadata": {},
   "outputs": [
    {
     "name": "stdout",
     "output_type": "stream",
     "text": [
      "21\n"
     ]
    }
   ],
   "source": [
    "a = 21\n",
    "print(a)"
   ]
  },
  {
   "cell_type": "code",
   "execution_count": 9,
   "id": "5c59b88e-372f-4c9d-9eab-9a8e3dd1075b",
   "metadata": {},
   "outputs": [
    {
     "name": "stdout",
     "output_type": "stream",
     "text": [
      "10\n"
     ]
    }
   ],
   "source": [
    "Shivaji = 10\n",
    "print(Shivaji)"
   ]
  },
  {
   "cell_type": "code",
   "execution_count": 10,
   "id": "c97ef650-ddf4-4286-903a-d919d2abf380",
   "metadata": {},
   "outputs": [
    {
     "name": "stdout",
     "output_type": "stream",
     "text": [
      "Shivji\n"
     ]
    }
   ],
   "source": [
    "print(\"Shivji\")"
   ]
  },
  {
   "cell_type": "code",
   "execution_count": 11,
   "id": "9c8471d3-e668-4b71-a1ff-6b059f36db19",
   "metadata": {},
   "outputs": [
    {
     "name": "stdout",
     "output_type": "stream",
     "text": [
      "11 22 33 44 55\n"
     ]
    }
   ],
   "source": [
    "a = 11 \n",
    "b = 22 \n",
    "c = 33 \n",
    "d = 44 \n",
    "e = 55\n",
    "print(a,b,c,d,e)"
   ]
  },
  {
   "cell_type": "code",
   "execution_count": 12,
   "id": "dca85425-04ba-4ac4-bc69-737a2ddb14d6",
   "metadata": {},
   "outputs": [
    {
     "name": "stdout",
     "output_type": "stream",
     "text": [
      "7\n"
     ]
    },
    {
     "data": {
      "text/plain": [
       "int"
      ]
     },
     "execution_count": 12,
     "metadata": {},
     "output_type": "execute_result"
    }
   ],
   "source": [
    "a = 7\n",
    "print(a)\n",
    "type(a)"
   ]
  },
  {
   "cell_type": "code",
   "execution_count": 13,
   "id": "972a3575-da29-4bdf-981f-6aeb29bf61c0",
   "metadata": {},
   "outputs": [
    {
     "name": "stdout",
     "output_type": "stream",
     "text": [
      "1\n"
     ]
    },
    {
     "data": {
      "text/plain": [
       "str"
      ]
     },
     "execution_count": 13,
     "metadata": {},
     "output_type": "execute_result"
    }
   ],
   "source": [
    "b = '1'\n",
    "print(b)\n",
    "type(b)"
   ]
  },
  {
   "cell_type": "code",
   "execution_count": 14,
   "id": "347617a3-df97-4d8a-9244-3c3febb0c7b3",
   "metadata": {},
   "outputs": [
    {
     "name": "stdout",
     "output_type": "stream",
     "text": [
      "25\n"
     ]
    }
   ],
   "source": [
    "# print function in Python 3\n",
    "a = 12\n",
    "b = 13\n",
    "c = a+b\n",
    "print(c)"
   ]
  },
  {
   "cell_type": "code",
   "execution_count": 15,
   "id": "e3c19a73-de52-4c5e-a388-1eabb5cdb1b4",
   "metadata": {},
   "outputs": [
    {
     "name": "stdout",
     "output_type": "stream",
     "text": [
      "40\n"
     ]
    }
   ],
   "source": [
    "a = 15\n",
    "b = 25\n",
    "print(a+b)"
   ]
  },
  {
   "cell_type": "code",
   "execution_count": 16,
   "id": "072f32ea-f349-49fa-9d98-b30a591469cb",
   "metadata": {},
   "outputs": [
    {
     "name": "stdout",
     "output_type": "stream",
     "text": [
      "40\n"
     ]
    }
   ],
   "source": [
    "print(15+25)"
   ]
  },
  {
   "cell_type": "code",
   "execution_count": 17,
   "id": "080e2cfd-0cdb-4926-8f21-01458eec5cc5",
   "metadata": {},
   "outputs": [
    {
     "name": "stdout",
     "output_type": "stream",
     "text": [
      "25 26 27 28\n"
     ]
    }
   ],
   "source": [
    "a = 25\n",
    "b = 26\n",
    "c = 27\n",
    "d = 28\n",
    "print(a,b,c,d)"
   ]
  },
  {
   "cell_type": "code",
   "execution_count": 19,
   "id": "e49ffe4e-70f0-4f3e-a0da-44caf33041b1",
   "metadata": {},
   "outputs": [
    {
     "name": "stdout",
     "output_type": "stream",
     "text": [
      "25:26:27:28\n"
     ]
    }
   ],
   "source": [
    "a = 25\n",
    "b = 26\n",
    "c = 27\n",
    "d = 28\n",
    "print(a,b,c,d,sep =\":\")"
   ]
  },
  {
   "cell_type": "code",
   "execution_count": 22,
   "id": "b0f18d92-cc70-45d7-986f-68b1da41bd1c",
   "metadata": {},
   "outputs": [
    {
     "name": "stdout",
     "output_type": "stream",
     "text": [
      "The value of b : 26\n"
     ]
    }
   ],
   "source": [
    "b = 26\n",
    "print(\"The value of b :\",b)"
   ]
  },
  {
   "cell_type": "code",
   "execution_count": 1,
   "id": "9f5476d2-4055-4e61-a6a1-42cdcfb2c760",
   "metadata": {},
   "outputs": [
    {
     "name": "stdout",
     "output_type": "stream",
     "text": [
      "Name parbati mate Shiv ji\n"
     ]
    }
   ],
   "source": [
    "first_name = \"Shiv ji\"\n",
    "last_name = \"parbati mate\"\n",
    "print(\"Name\", last_name , first_name)"
   ]
  },
  {
   "cell_type": "code",
   "execution_count": 2,
   "id": "acda16ec-e94a-4338-8412-8967b2d096e1",
   "metadata": {},
   "outputs": [
    {
     "name": "stdout",
     "output_type": "stream",
     "text": [
      "My first nsme is: Shiv ji and last name is: parbati mate\n"
     ]
    }
   ],
   "source": [
    "print(\"My first nsme is:\",first_name,\"and last name is:\",last_name)"
   ]
  },
  {
   "cell_type": "code",
   "execution_count": 3,
   "id": "ebf0ac4a-fbd0-4634-95de-a47ff5489263",
   "metadata": {},
   "outputs": [
    {
     "name": "stdout",
     "output_type": "stream",
     "text": [
      "My first name is: Shiv ji and last name is:parbati mate\n"
     ]
    }
   ],
   "source": [
    "print(\"My first name is: {} and last name is:{}\".format(first_name,last_name))"
   ]
  },
  {
   "cell_type": "code",
   "execution_count": 4,
   "id": "2d143ef8-e91e-416e-a29e-05a5bec24771",
   "metadata": {},
   "outputs": [
    {
     "name": "stdout",
     "output_type": "stream",
     "text": [
      "My first name is:parbati mate and last name is : parbati mate\n"
     ]
    }
   ],
   "source": [
    "#we can use keyword arguments to format the string\n",
    "print(\"My first name is:{first} and last name is : {first}\".format(last = last_name,first = last_name))"
   ]
  },
  {
   "cell_type": "code",
   "execution_count": 7,
   "id": "5a6e0186-497f-44d1-bbaf-12ca79352e86",
   "metadata": {},
   "outputs": [
    {
     "name": "stdout",
     "output_type": "stream",
     "text": [
      "Hello Shivji Hari Ommm Shivji\n"
     ]
    }
   ],
   "source": [
    "print(\"Hello {name} {greeting} {name}\". format(name = \"Shivji\",greeting = \"Hari Ommm\"))"
   ]
  },
  {
   "cell_type": "code",
   "execution_count": 6,
   "id": "830bc588-0668-4191-84b2-891142b3a504",
   "metadata": {},
   "outputs": [
    {
     "name": "stdout",
     "output_type": "stream",
     "text": [
      "The story of Any, One, and Help you\n"
     ]
    }
   ],
   "source": [
    "#we can combine positional arguments with keyword arguments\n",
    "print('The story of {}, {}, and {other}'.format('Any','One',other = 'Help you'))"
   ]
  },
  {
   "cell_type": "code",
   "execution_count": 4,
   "id": "83885f06-662e-49cf-bbaf-5797771abd95",
   "metadata": {},
   "outputs": [
    {
     "name": "stdout",
     "output_type": "stream",
     "text": [
      "My number is: 17 and my name is : Ram\n",
      "My number is: 17 and my name is : Ram\n",
      "My number is: and my name is: Ram\n"
     ]
    }
   ],
   "source": [
    "num = 17\n",
    "name = \"Ram\"\n",
    "print('My number is: {one} and my name is : {seven}'.format(one = num,seven = name))\n",
    "print('My number is: {} and my name is : {}'.format(num,name))\n",
    "print(\"My number is:\" , \"and my name is:\",name)"
   ]
  },
  {
   "cell_type": "code",
   "execution_count": null,
   "id": "a76aba19-9212-4b92-a3b2-028b678a63c9",
   "metadata": {},
   "outputs": [],
   "source": []
  }
 ],
 "metadata": {
  "kernelspec": {
   "display_name": "Python 3 (ipykernel)",
   "language": "python",
   "name": "python3"
  },
  "language_info": {
   "codemirror_mode": {
    "name": "ipython",
    "version": 3
   },
   "file_extension": ".py",
   "mimetype": "text/x-python",
   "name": "python",
   "nbconvert_exporter": "python",
   "pygments_lexer": "ipython3",
   "version": "3.11.7"
  }
 },
 "nbformat": 4,
 "nbformat_minor": 5
}
