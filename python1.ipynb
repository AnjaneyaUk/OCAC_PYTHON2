{
 "cells": [
  {
   "cell_type": "code",
   "execution_count": 1,
   "id": "768e52b3-9905-42df-8a2b-3846cfa925fd",
   "metadata": {},
   "outputs": [
    {
     "data": {
      "text/plain": [
       "'SHIVAJI'"
      ]
     },
     "execution_count": 1,
     "metadata": {},
     "output_type": "execute_result"
    }
   ],
   "source": [
    "a = 'SHIVAJI'\n",
    "a"
   ]
  },
  {
   "cell_type": "code",
   "execution_count": 2,
   "id": "6ef0c517-731b-4cff-b192-ca49794d70bc",
   "metadata": {},
   "outputs": [
    {
     "name": "stdout",
     "output_type": "stream",
     "text": [
      "SHIVAJI\n"
     ]
    }
   ],
   "source": [
    "print(a)"
   ]
  },
  {
   "cell_type": "code",
   "execution_count": 3,
   "id": "57d90b57-957d-4e6c-9041-d938147e614e",
   "metadata": {},
   "outputs": [
    {
     "data": {
      "text/plain": [
       "60"
      ]
     },
     "execution_count": 3,
     "metadata": {},
     "output_type": "execute_result"
    }
   ],
   "source": [
    "b = 60\n",
    "b"
   ]
  },
  {
   "cell_type": "code",
   "execution_count": 4,
   "id": "8e265598-66e8-4c67-8e50-2f75a4d8ab8c",
   "metadata": {},
   "outputs": [
    {
     "data": {
      "text/plain": [
       "int"
      ]
     },
     "execution_count": 4,
     "metadata": {},
     "output_type": "execute_result"
    }
   ],
   "source": [
    "type(b)"
   ]
  },
  {
   "cell_type": "code",
   "execution_count": 5,
   "id": "8713665f-0052-4bc2-adb9-28911dd211f2",
   "metadata": {},
   "outputs": [
    {
     "data": {
      "text/plain": [
       "'SHIVAJI'"
      ]
     },
     "execution_count": 5,
     "metadata": {},
     "output_type": "execute_result"
    }
   ],
   "source": [
    "b = 'SHIVAJI'\n",
    "b"
   ]
  },
  {
   "cell_type": "code",
   "execution_count": 6,
   "id": "d87ee961-56be-4e89-98d8-2ffae0b4b1d9",
   "metadata": {},
   "outputs": [
    {
     "data": {
      "text/plain": [
       "50"
      ]
     },
     "execution_count": 6,
     "metadata": {},
     "output_type": "execute_result"
    }
   ],
   "source": [
    "ab = 50\n",
    "ab"
   ]
  },
  {
   "cell_type": "code",
   "execution_count": 7,
   "id": "eee73e1a-1e01-43a7-87cb-c4516933820c",
   "metadata": {},
   "outputs": [
    {
     "data": {
      "text/plain": [
       "'60'"
      ]
     },
     "execution_count": 7,
     "metadata": {},
     "output_type": "execute_result"
    }
   ],
   "source": [
    "c = \"60\"\n",
    "c"
   ]
  },
  {
   "cell_type": "code",
   "execution_count": 8,
   "id": "488f7a1d-8672-4fcf-8837-35a5a22c1e25",
   "metadata": {},
   "outputs": [
    {
     "data": {
      "text/plain": [
       "str"
      ]
     },
     "execution_count": 8,
     "metadata": {},
     "output_type": "execute_result"
    }
   ],
   "source": [
    "type(c)"
   ]
  },
  {
   "cell_type": "code",
   "execution_count": 9,
   "id": "9ec994e7-3e4b-4e3a-b54e-315cb2909485",
   "metadata": {},
   "outputs": [
    {
     "data": {
      "text/plain": [
       "'23a'"
      ]
     },
     "execution_count": 9,
     "metadata": {},
     "output_type": "execute_result"
    }
   ],
   "source": [
    "cd = \"23a\"\n",
    "cd"
   ]
  },
  {
   "cell_type": "code",
   "execution_count": 10,
   "id": "76fd098d-4d54-432b-bfad-d184b12ea5ae",
   "metadata": {},
   "outputs": [
    {
     "data": {
      "text/plain": [
       "str"
      ]
     },
     "execution_count": 10,
     "metadata": {},
     "output_type": "execute_result"
    }
   ],
   "source": [
    "type(cd)\n"
   ]
  },
  {
   "cell_type": "code",
   "execution_count": 11,
   "id": "d413f4b4-d4da-434f-9657-fa7451c4f6d5",
   "metadata": {},
   "outputs": [
    {
     "name": "stdout",
     "output_type": "stream",
     "text": [
      "['False', 'None', 'True', 'and', 'as', 'assert', 'async', 'await', 'break', 'class', 'continue', 'def', 'del', 'elif', 'else', 'except', 'finally', 'for', 'from', 'global', 'if', 'import', 'in', 'is', 'lambda', 'nonlocal', 'not', 'or', 'pass', 'raise', 'return', 'try', 'while', 'with', 'yield']\n"
     ]
    }
   ],
   "source": [
    "import keyword\n",
    "print(keyword.kwlist)"
   ]
  },
  {
   "cell_type": "code",
   "execution_count": 12,
   "id": "359432e3-766d-495c-b4d2-82a633cc41fa",
   "metadata": {},
   "outputs": [
    {
     "data": {
      "text/plain": [
       "35"
      ]
     },
     "execution_count": 12,
     "metadata": {},
     "output_type": "execute_result"
    }
   ],
   "source": [
    "len(keyword.kwlist)"
   ]
  },
  {
   "cell_type": "code",
   "execution_count": 16,
   "id": "f1c497f0-693d-40fb-b295-a251882c34c6",
   "metadata": {},
   "outputs": [
    {
     "ename": "SyntaxError",
     "evalue": "cannot assign to False (404915641.py, line 1)",
     "output_type": "error",
     "traceback": [
      "\u001b[1;36m  Cell \u001b[1;32mIn[16], line 1\u001b[1;36m\u001b[0m\n\u001b[1;33m    False= \"4545\"\u001b[0m\n\u001b[1;37m    ^\u001b[0m\n\u001b[1;31mSyntaxError\u001b[0m\u001b[1;31m:\u001b[0m cannot assign to False\n"
     ]
    }
   ],
   "source": [
    "False = \"4545\"\n",
    "False"
   ]
  },
  {
   "cell_type": "code",
   "execution_count": 17,
   "id": "e6e49393-3e4f-4f39-8e70-2624f3f9d709",
   "metadata": {},
   "outputs": [
    {
     "ename": "SyntaxError",
     "evalue": "cannot assign to None (4134967997.py, line 1)",
     "output_type": "error",
     "traceback": [
      "\u001b[1;36m  Cell \u001b[1;32mIn[17], line 1\u001b[1;36m\u001b[0m\n\u001b[1;33m    None = \"34\"\u001b[0m\n\u001b[1;37m    ^\u001b[0m\n\u001b[1;31mSyntaxError\u001b[0m\u001b[1;31m:\u001b[0m cannot assign to None\n"
     ]
    }
   ],
   "source": [
    "None = \"34\"\n",
    "None"
   ]
  },
  {
   "cell_type": "code",
   "execution_count": 19,
   "id": "233f642e-ce7a-4221-b3fe-690cec126eae",
   "metadata": {},
   "outputs": [
    {
     "ename": "SyntaxError",
     "evalue": "cannot assign to True (2662175713.py, line 1)",
     "output_type": "error",
     "traceback": [
      "\u001b[1;36m  Cell \u001b[1;32mIn[19], line 1\u001b[1;36m\u001b[0m\n\u001b[1;33m    True = \"45\"\u001b[0m\n\u001b[1;37m    ^\u001b[0m\n\u001b[1;31mSyntaxError\u001b[0m\u001b[1;31m:\u001b[0m cannot assign to True\n"
     ]
    }
   ],
   "source": [
    "True = \"45\"\n",
    "True"
   ]
  },
  {
   "cell_type": "code",
   "execution_count": 21,
   "id": "7f315a75-be17-47af-9646-e2a8aabda72a",
   "metadata": {},
   "outputs": [
    {
     "ename": "NameError",
     "evalue": "name '__peg_perser__' is not defined",
     "output_type": "error",
     "traceback": [
      "\u001b[1;31m---------------------------------------------------------------------------\u001b[0m",
      "\u001b[1;31mNameError\u001b[0m                                 Traceback (most recent call last)",
      "Cell \u001b[1;32mIn[21], line 2\u001b[0m\n\u001b[0;32m      1\u001b[0m __peg_parser__\u001b[38;5;241m=\u001b[39m \u001b[38;5;124m\"\u001b[39m\u001b[38;5;124m67\u001b[39m\u001b[38;5;124m\"\u001b[39m\n\u001b[1;32m----> 2\u001b[0m __peg_perser__\n",
      "\u001b[1;31mNameError\u001b[0m: name '__peg_perser__' is not defined"
     ]
    }
   ],
   "source": [
    "__peg_parser__= \"67\"\n",
    "__peg_perser__ "
   ]
  },
  {
   "cell_type": "code",
   "execution_count": 22,
   "id": "3647e6c9-d374-4c3f-9461-5a0f6d720458",
   "metadata": {},
   "outputs": [
    {
     "ename": "SyntaxError",
     "evalue": "invalid syntax (1815217491.py, line 1)",
     "output_type": "error",
     "traceback": [
      "\u001b[1;36m  Cell \u001b[1;32mIn[22], line 1\u001b[1;36m\u001b[0m\n\u001b[1;33m    and = \"56\"\u001b[0m\n\u001b[1;37m    ^\u001b[0m\n\u001b[1;31mSyntaxError\u001b[0m\u001b[1;31m:\u001b[0m invalid syntax\n"
     ]
    }
   ],
   "source": [
    "and = \"56\"\n",
    "and"
   ]
  },
  {
   "cell_type": "code",
   "execution_count": 23,
   "id": "0a2c5369-f2ef-4d94-8565-4f51f97919b0",
   "metadata": {},
   "outputs": [
    {
     "ename": "SyntaxError",
     "evalue": "invalid syntax (3470928739.py, line 1)",
     "output_type": "error",
     "traceback": [
      "\u001b[1;36m  Cell \u001b[1;32mIn[23], line 1\u001b[1;36m\u001b[0m\n\u001b[1;33m    as =\"23\"\u001b[0m\n\u001b[1;37m    ^\u001b[0m\n\u001b[1;31mSyntaxError\u001b[0m\u001b[1;31m:\u001b[0m invalid syntax\n"
     ]
    }
   ],
   "source": [
    "as =\"23\"\n",
    "as"
   ]
  },
  {
   "cell_type": "code",
   "execution_count": 24,
   "id": "32e20047-1379-43ca-8695-8d6bf53026ce",
   "metadata": {},
   "outputs": [
    {
     "ename": "SyntaxError",
     "evalue": "invalid syntax (94748722.py, line 1)",
     "output_type": "error",
     "traceback": [
      "\u001b[1;36m  Cell \u001b[1;32mIn[24], line 1\u001b[1;36m\u001b[0m\n\u001b[1;33m    assert = \"12\"\u001b[0m\n\u001b[1;37m           ^\u001b[0m\n\u001b[1;31mSyntaxError\u001b[0m\u001b[1;31m:\u001b[0m invalid syntax\n"
     ]
    }
   ],
   "source": [
    "assert = \"12\"\n",
    "assert"
   ]
  },
  {
   "cell_type": "code",
   "execution_count": 1,
   "id": "59fc8190-2593-4421-8f7e-9c24d317600e",
   "metadata": {},
   "outputs": [
    {
     "ename": "SyntaxError",
     "evalue": "invalid syntax (3172616799.py, line 1)",
     "output_type": "error",
     "traceback": [
      "\u001b[1;36m  Cell \u001b[1;32mIn[1], line 1\u001b[1;36m\u001b[0m\n\u001b[1;33m    async = \"24\"\u001b[0m\n\u001b[1;37m          ^\u001b[0m\n\u001b[1;31mSyntaxError\u001b[0m\u001b[1;31m:\u001b[0m invalid syntax\n"
     ]
    }
   ],
   "source": [
    "async = \"24\"\n",
    "async"
   ]
  },
  {
   "cell_type": "code",
   "execution_count": 2,
   "id": "40731f74-22a9-48a5-bbf5-ebfb025d3fec",
   "metadata": {},
   "outputs": [
    {
     "data": {
      "text/plain": [
       "45"
      ]
     },
     "execution_count": 2,
     "metadata": {},
     "output_type": "execute_result"
    }
   ],
   "source": [
    "b1 = 45 \n",
    "b1"
   ]
  },
  {
   "cell_type": "code",
   "execution_count": 3,
   "id": "b0232c35-b86a-4765-9320-660ed82b106c",
   "metadata": {},
   "outputs": [
    {
     "ename": "SyntaxError",
     "evalue": "invalid decimal literal (2937976727.py, line 1)",
     "output_type": "error",
     "traceback": [
      "\u001b[1;36m  Cell \u001b[1;32mIn[3], line 1\u001b[1;36m\u001b[0m\n\u001b[1;33m    1a = 77\u001b[0m\n\u001b[1;37m    ^\u001b[0m\n\u001b[1;31mSyntaxError\u001b[0m\u001b[1;31m:\u001b[0m invalid decimal literal\n"
     ]
    }
   ],
   "source": [
    "1a = 77\n",
    "1a"
   ]
  },
  {
   "cell_type": "code",
   "execution_count": 4,
   "id": "7ff63bf9-f177-4125-92c0-5994b2bc81d9",
   "metadata": {},
   "outputs": [
    {
     "ename": "SyntaxError",
     "evalue": "invalid syntax (2754178003.py, line 1)",
     "output_type": "error",
     "traceback": [
      "\u001b[1;36m  Cell \u001b[1;32mIn[4], line 1\u001b[1;36m\u001b[0m\n\u001b[1;33m    b$7 = 87\u001b[0m\n\u001b[1;37m     ^\u001b[0m\n\u001b[1;31mSyntaxError\u001b[0m\u001b[1;31m:\u001b[0m invalid syntax\n"
     ]
    }
   ],
   "source": [
    "b$7 = 87\n",
    "b$7"
   ]
  },
  {
   "cell_type": "code",
   "execution_count": 7,
   "id": "b196b9b5-5990-4f94-814d-b04920e3803b",
   "metadata": {},
   "outputs": [
    {
     "data": {
      "text/plain": [
       "453"
      ]
     },
     "execution_count": 7,
     "metadata": {},
     "output_type": "execute_result"
    }
   ],
   "source": [
    "a_6 = 453\n",
    "a_6"
   ]
  },
  {
   "cell_type": "code",
   "execution_count": 8,
   "id": "ac1c7aa4-019b-4bb4-94aa-7ba39218f09b",
   "metadata": {},
   "outputs": [
    {
     "data": {
      "text/plain": [
       "2481592873552"
      ]
     },
     "execution_count": 8,
     "metadata": {},
     "output_type": "execute_result"
    }
   ],
   "source": [
    "#Storagelocation\n",
    "id(a_6)"
   ]
  },
  {
   "cell_type": "code",
   "execution_count": 9,
   "id": "b3159862-ae98-4059-b630-b3a0b2224226",
   "metadata": {},
   "outputs": [
    {
     "data": {
      "text/plain": [
       "140725378277448"
      ]
     },
     "execution_count": 9,
     "metadata": {},
     "output_type": "execute_result"
    }
   ],
   "source": [
    "c = 234\n",
    "c\n",
    "id(c)"
   ]
  },
  {
   "cell_type": "code",
   "execution_count": 2,
   "id": "277f58c6-b802-4548-b0a9-78fd256d8edf",
   "metadata": {},
   "outputs": [
    {
     "data": {
      "text/plain": [
       "140726105463912"
      ]
     },
     "execution_count": 2,
     "metadata": {},
     "output_type": "execute_result"
    }
   ],
   "source": [
    "d = 203\n",
    "id(d)"
   ]
  },
  {
   "cell_type": "code",
   "execution_count": 3,
   "id": "74cb7f37-a9c6-478b-8ff1-3047253c3539",
   "metadata": {},
   "outputs": [
    {
     "data": {
      "text/plain": [
       "140726105458952"
      ]
     },
     "execution_count": 3,
     "metadata": {},
     "output_type": "execute_result"
    }
   ],
   "source": [
    "d = 48\n",
    "e = 34\n",
    "id(d)"
   ]
  },
  {
   "cell_type": "code",
   "execution_count": 5,
   "id": "60b0235a-972e-4f47-a53e-c3c40f7b6540",
   "metadata": {},
   "outputs": [
    {
     "data": {
      "text/plain": [
       "140726105458504"
      ]
     },
     "execution_count": 5,
     "metadata": {},
     "output_type": "execute_result"
    }
   ],
   "source": [
    "id(e)"
   ]
  },
  {
   "cell_type": "code",
   "execution_count": 6,
   "id": "ee74928b-179d-49ab-8d9e-a8fb1b5fbaf5",
   "metadata": {},
   "outputs": [
    {
     "data": {
      "text/plain": [
       "140726105459208"
      ]
     },
     "execution_count": 6,
     "metadata": {},
     "output_type": "execute_result"
    }
   ],
   "source": [
    "e = 56\n",
    "id(e)"
   ]
  },
  {
   "cell_type": "code",
   "execution_count": 7,
   "id": "f7adf3fa-7109-4ff4-b469-e67ede832a62",
   "metadata": {},
   "outputs": [
    {
     "data": {
      "text/plain": [
       "140726105459912"
      ]
     },
     "execution_count": 7,
     "metadata": {},
     "output_type": "execute_result"
    }
   ],
   "source": [
    "f = 78\n",
    "id(f)"
   ]
  },
  {
   "cell_type": "code",
   "execution_count": 8,
   "id": "254c806e-c501-4ae3-94a1-fcef890e3888",
   "metadata": {},
   "outputs": [
    {
     "name": "stdout",
     "output_type": "stream",
     "text": [
      "The sumation of two numbers are 41\n"
     ]
    }
   ],
   "source": [
    "a = 15\n",
    "b = 26\n",
    "sum = a+b\n",
    "print(\"The sumation of two numbers are\",sum)"
   ]
  },
  {
   "cell_type": "code",
   "execution_count": 9,
   "id": "cc7c3d27-789a-49f4-9a39-442f5b57cf1b",
   "metadata": {},
   "outputs": [
    {
     "data": {
      "text/plain": [
       "('The sumation of two numbers are', 41)"
      ]
     },
     "execution_count": 9,
     "metadata": {},
     "output_type": "execute_result"
    }
   ],
   "source": [
    "\"The sumation of two numbers are\",sum"
   ]
  },
  {
   "cell_type": "code",
   "execution_count": 10,
   "id": "86689d86-aa03-4a78-997b-eec216b1e2ce",
   "metadata": {},
   "outputs": [
    {
     "data": {
      "text/plain": [
       "41"
      ]
     },
     "execution_count": 10,
     "metadata": {},
     "output_type": "execute_result"
    }
   ],
   "source": [
    "sum"
   ]
  },
  {
   "cell_type": "code",
   "execution_count": 12,
   "id": "bd3a0633-e5f7-4c6b-9a09-da7a0d3d8f27",
   "metadata": {},
   "outputs": [
    {
     "data": {
      "text/plain": [
       "12"
      ]
     },
     "execution_count": 12,
     "metadata": {},
     "output_type": "execute_result"
    }
   ],
   "source": [
    "e = f = g = 12\n",
    "e"
   ]
  },
  {
   "cell_type": "code",
   "execution_count": 13,
   "id": "bf82e70c-8dc5-48b3-82a0-1f7f59ec833e",
   "metadata": {},
   "outputs": [
    {
     "data": {
      "text/plain": [
       "12"
      ]
     },
     "execution_count": 13,
     "metadata": {},
     "output_type": "execute_result"
    }
   ],
   "source": [
    "f"
   ]
  },
  {
   "cell_type": "code",
   "execution_count": 14,
   "id": "b2b8957a-1818-420b-b391-f2e82b7a5dcd",
   "metadata": {},
   "outputs": [
    {
     "data": {
      "text/plain": [
       "12"
      ]
     },
     "execution_count": 14,
     "metadata": {},
     "output_type": "execute_result"
    }
   ],
   "source": [
    "g"
   ]
  },
  {
   "cell_type": "code",
   "execution_count": 18,
   "id": "83dd6f31-6161-4425-bbab-e2e98e9cbf5d",
   "metadata": {},
   "outputs": [
    {
     "name": "stdout",
     "output_type": "stream",
     "text": [
      "43 34 54\n"
     ]
    }
   ],
   "source": [
    "e = 43\n",
    "f = 34\n",
    "g = 54\n",
    "efg = 141\n",
    "print(e,f,g)"
   ]
  },
  {
   "cell_type": "code",
   "execution_count": 19,
   "id": "22e06833-ce76-4740-91d4-607d3c18036d",
   "metadata": {},
   "outputs": [
    {
     "name": "stdout",
     "output_type": "stream",
     "text": [
      "141\n"
     ]
    }
   ],
   "source": [
    "print(efg)"
   ]
  },
  {
   "cell_type": "code",
   "execution_count": 21,
   "id": "b516e785-db34-4056-8c85-759bad2d31b4",
   "metadata": {},
   "outputs": [
    {
     "name": "stdout",
     "output_type": "stream",
     "text": [
      "20\n"
     ]
    }
   ],
   "source": [
    "a = 20\n",
    "print(a)"
   ]
  },
  {
   "cell_type": "code",
   "execution_count": 26,
   "id": "3afccd8e-bb11-4060-9ebc-85520a4740f8",
   "metadata": {},
   "outputs": [
    {
     "ename": "NameError",
     "evalue": "name 'a' is not defined",
     "output_type": "error",
     "traceback": [
      "\u001b[1;31m---------------------------------------------------------------------------\u001b[0m",
      "\u001b[1;31mNameError\u001b[0m                                 Traceback (most recent call last)",
      "Cell \u001b[1;32mIn[26], line 2\u001b[0m\n\u001b[0;32m      1\u001b[0m \u001b[38;5;66;03m#Delete Element\u001b[39;00m\n\u001b[1;32m----> 2\u001b[0m \u001b[38;5;28;01mdel\u001b[39;00m(a)\n",
      "\u001b[1;31mNameError\u001b[0m: name 'a' is not defined"
     ]
    }
   ],
   "source": [
    "#Delete Element\n",
    "del(a)"
   ]
  },
  {
   "cell_type": "code",
   "execution_count": 28,
   "id": "5c29c10a-391a-4308-9957-c56256a56a6f",
   "metadata": {},
   "outputs": [
    {
     "ename": "NameError",
     "evalue": "name 'a' is not defined",
     "output_type": "error",
     "traceback": [
      "\u001b[1;31m---------------------------------------------------------------------------\u001b[0m",
      "\u001b[1;31mNameError\u001b[0m                                 Traceback (most recent call last)",
      "Cell \u001b[1;32mIn[28], line 1\u001b[0m\n\u001b[1;32m----> 1\u001b[0m \u001b[38;5;28mprint\u001b[39m(a)\n",
      "\u001b[1;31mNameError\u001b[0m: name 'a' is not defined"
     ]
    }
   ],
   "source": [
    "print(a)"
   ]
  },
  {
   "cell_type": "code",
   "execution_count": 29,
   "id": "654cf3e1-5250-484d-9863-f2b6ba4fc8ad",
   "metadata": {},
   "outputs": [],
   "source": [
    "# to c lear van ab l e expl orer\n",
    "a = 77\n",
    "b = 88\n",
    "c = 99\n",
    "del a,b"
   ]
  },
  {
   "cell_type": "code",
   "execution_count": 30,
   "id": "d5fa6b5d-8d1d-42d5-bbca-42c48263cc27",
   "metadata": {},
   "outputs": [
    {
     "name": "stdout",
     "output_type": "stream",
     "text": [
      "99\n"
     ]
    }
   ],
   "source": [
    "print(c)"
   ]
  },
  {
   "cell_type": "code",
   "execution_count": 34,
   "id": "5f7170d1-e8e3-4e5b-98b2-c7aeeaef8040",
   "metadata": {},
   "outputs": [
    {
     "ename": "SyntaxError",
     "evalue": "invalid decimal literal (350700567.py, line 1)",
     "output_type": "error",
     "traceback": [
      "\u001b[1;36m  Cell \u001b[1;32mIn[34], line 1\u001b[1;36m\u001b[0m\n\u001b[1;33m    1a = 45\u001b[0m\n\u001b[1;37m    ^\u001b[0m\n\u001b[1;31mSyntaxError\u001b[0m\u001b[1;31m:\u001b[0m invalid decimal literal\n"
     ]
    }
   ],
   "source": [
    "1a = 45\n",
    "1a"
   ]
  },
  {
   "cell_type": "code",
   "execution_count": 35,
   "id": "bde9bb71-a39b-480f-961d-576154768c3c",
   "metadata": {},
   "outputs": [
    {
     "ename": "SyntaxError",
     "evalue": "cannot assign to expression here. Maybe you meant '==' instead of '='? (2756725690.py, line 1)",
     "output_type": "error",
     "traceback": [
      "\u001b[1;36m  Cell \u001b[1;32mIn[35], line 1\u001b[1;36m\u001b[0m\n\u001b[1;33m    a@1 = 55\u001b[0m\n\u001b[1;37m    ^\u001b[0m\n\u001b[1;31mSyntaxError\u001b[0m\u001b[1;31m:\u001b[0m cannot assign to expression here. Maybe you meant '==' instead of '='?\n"
     ]
    }
   ],
   "source": [
    "a@1 = 55\n",
    "a@1"
   ]
  },
  {
   "cell_type": "code",
   "execution_count": 36,
   "id": "06fe79fd-281f-4c56-961e-1a795b59cbc7",
   "metadata": {},
   "outputs": [
    {
     "data": {
      "text/plain": [
       "31"
      ]
     },
     "execution_count": 36,
     "metadata": {},
     "output_type": "execute_result"
    }
   ],
   "source": [
    "a1 = 31\n",
    "a1"
   ]
  },
  {
   "cell_type": "code",
   "execution_count": 37,
   "id": "76250a95-93ee-4763-9895-fdecef533d3a",
   "metadata": {},
   "outputs": [],
   "source": [
    "#Multiple Assignments"
   ]
  },
  {
   "cell_type": "code",
   "execution_count": 38,
   "id": "ccd6c933-523c-4bf6-a9cb-da39c14d3d02",
   "metadata": {},
   "outputs": [
    {
     "name": "stdout",
     "output_type": "stream",
     "text": [
      "32 46 25\n"
     ]
    }
   ],
   "source": [
    "a = 32\n",
    "b = 46\n",
    "c = 25\n",
    "print(a,b,c)"
   ]
  },
  {
   "cell_type": "code",
   "execution_count": 39,
   "id": "bef97367-bf06-42ec-92e9-d71da1c20201",
   "metadata": {},
   "outputs": [
    {
     "name": "stdout",
     "output_type": "stream",
     "text": [
      "32 46 25\n"
     ]
    }
   ],
   "source": [
    "#we can assign/rul tiple van ab les in a single L one\n",
    "a,b,c = 32,46,25\n",
    "print(a,b,c)"
   ]
  },
  {
   "cell_type": "code",
   "execution_count": 42,
   "id": "7f29cd53-b871-4019-94a7-0bd6f7d0913e",
   "metadata": {},
   "outputs": [
    {
     "name": "stdout",
     "output_type": "stream",
     "text": [
      "SHIVAJI\n"
     ]
    }
   ],
   "source": [
    "# a sign the same valus to / rul tiple var i ab les at once \n",
    "a = b = c = \"SHIVAJI\"\n",
    "print(c)"
   ]
  },
  {
   "cell_type": "code",
   "execution_count": null,
   "id": "2eceff8f-e6e2-4aba-8110-915ce66a4b47",
   "metadata": {},
   "outputs": [],
   "source": []
  }
 ],
 "metadata": {
  "kernelspec": {
   "display_name": "Python 3 (ipykernel)",
   "language": "python",
   "name": "python3"
  },
  "language_info": {
   "codemirror_mode": {
    "name": "ipython",
    "version": 3
   },
   "file_extension": ".py",
   "mimetype": "text/x-python",
   "name": "python",
   "nbconvert_exporter": "python",
   "pygments_lexer": "ipython3",
   "version": "3.11.7"
  }
 },
 "nbformat": 4,
 "nbformat_minor": 5
}
